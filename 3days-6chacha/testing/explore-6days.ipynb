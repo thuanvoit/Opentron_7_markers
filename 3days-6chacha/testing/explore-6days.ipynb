{
 "cells": [
  {
   "cell_type": "code",
   "execution_count": 1,
   "id": "9a1b0c57",
   "metadata": {},
   "outputs": [],
   "source": [
    "chacha_location = {\n",
    "    # chacha1\n",
    "    1: {\"active\": True,\n",
    "        \"position\": 1,\n",
    "        \"slides\": {1: {\"active\": True, \"workRegion\": {'cols': ['2', '3'],\n",
    "                                                            'rows': ['G', 'H']}},\n",
    "                   2: {\"active\": True, \"workRegion\": {'cols': ['2', '3'],\n",
    "                                                           'rows': ['G', 'H']}},\n",
    "                   3: {\"active\": True, \"workRegion\": {'cols': ['2', '3'],\n",
    "                                                           'rows': ['G', 'H']}},\n",
    "                   4: {\"active\": True, \"workRegion\": {'cols': ['2', '3'],\n",
    "                                                           'rows': ['G', 'H']}}, }\n",
    "        },\n",
    "    # chacha2\n",
    "    2: {\"active\": True,\n",
    "        \"position\": 2,\n",
    "        \"slides\": {1: {\"active\": True, \"workRegion\": {'cols': ['2', '3'],\n",
    "                                                            'rows': ['G', 'H']}},\n",
    "                   2: {\"active\": True, \"workRegion\": {'cols': ['2', '3'],\n",
    "                                                           'rows': ['G', 'H']}},\n",
    "                   3: {\"active\": True, \"workRegion\": {'cols': ['2', '3'],\n",
    "                                                           'rows': ['G', 'H']}},\n",
    "                   4: {\"active\": True, \"workRegion\": {'cols': ['2', '3'],\n",
    "                                                           'rows': ['G', 'H']}}, }\n",
    "        },\n",
    "    # chacha3\n",
    "    3: {\"active\": True,\n",
    "        \"position\": 3,\n",
    "        \"slides\": {1: {\"active\": True, \"workRegion\": {'cols': ['2', '3'],\n",
    "                                                            'rows': ['G', 'H']}},\n",
    "                   2: {\"active\": True, \"workRegion\": {'cols': ['2', '3'],\n",
    "                                                           'rows': ['G', 'H']}},\n",
    "                   3: {\"active\": True, \"workRegion\": {'cols': ['2', '3'],\n",
    "                                                           'rows': ['G', 'H']}},\n",
    "                   4: {\"active\": True, \"workRegion\": {'cols': ['2', '3'],\n",
    "                                                           'rows': ['G', 'H']}}, }\n",
    "        },\n",
    "    ################################################################################\n",
    "    # chacha4\n",
    "    4: {\"active\": False,\n",
    "        \"position\": 1,\n",
    "        \"slides\": {1: {\"active\": True, \"workRegion\": {'cols': ['2', '3'],\n",
    "                                                            'rows': ['G', 'H']}},\n",
    "                   2: {\"active\": True, \"workRegion\": {'cols': ['2', '3'],\n",
    "                                                           'rows': ['G', 'H']}},\n",
    "                   3: {\"active\": True, \"workRegion\": {'cols': ['2', '3'],\n",
    "                                                           'rows': ['G', 'H']}},\n",
    "                   4: {\"active\": True, \"workRegion\": {'cols': ['2', '3'],\n",
    "                                                           'rows': ['G', 'H']}}, }\n",
    "        },\n",
    "    # chacha5\n",
    "    5: {\"active\": False,\n",
    "        \"position\": 2,\n",
    "        \"slides\": {1: {\"active\": True, \"workRegion\": {'cols': ['2', '3'],\n",
    "                                                            'rows': ['G', 'H']}},\n",
    "                   2: {\"active\": True, \"workRegion\": {'cols': ['2', '3'],\n",
    "                                                           'rows': ['G', 'H']}},\n",
    "                   3: {\"active\": True, \"workRegion\": {'cols': ['2', '3'],\n",
    "                                                           'rows': ['G', 'H']}},\n",
    "                   4: {\"active\": True, \"workRegion\": {'cols': ['2', '3'],\n",
    "                                                           'rows': ['G', 'H']}}, }\n",
    "        },\n",
    "    # chacha6\n",
    "    6: {\"active\": False,\n",
    "        \"position\": 3,\n",
    "        \"slides\": {1: {\"active\": True, \"workRegion\": {'cols': ['2', '3'],\n",
    "                                                            'rows': ['G', 'H']}},\n",
    "                   2: {\"active\": True, \"workRegion\": {'cols': ['2', '3'],\n",
    "                                                           'rows': ['G', 'H']}},\n",
    "                   3: {\"active\": True, \"workRegion\": {'cols': ['2', '3'],\n",
    "                                                           'rows': ['G', 'H']}},\n",
    "                   4: {\"active\": True, \"workRegion\": {'cols': ['2', '3'],\n",
    "                                                           'rows': ['G', 'H']}}, }\n",
    "        },\n",
    "}"
   ]
  },
  {
   "cell_type": "code",
   "execution_count": 24,
   "id": "52c6976d",
   "metadata": {},
   "outputs": [
    {
     "name": "stdout",
     "output_type": "stream",
     "text": [
      "chacha #1 is active at position 1\n",
      "chacha #2 is active at position 2\n",
      "chacha #3 is active at position 3\n"
     ]
    }
   ],
   "source": [
    "for key, value in chacha_location.items():\n",
    "    if (value['active']):\n",
    "        print(f\"chacha #{key} is active at position {value['position']}\")"
   ]
  },
  {
   "cell_type": "code",
   "execution_count": 57,
   "id": "2cd68813",
   "metadata": {},
   "outputs": [],
   "source": [
    "def antibody_def(tuberack, tbst_well=None):\n",
    "    tbst_well = {\n",
    "        \"tbst\": {\"position\": \"A1\",\n",
    "                 \"volume\": 250,\n",
    "                 \"time\": {\"mins\": 1, \"sec\": 0}, \"labware\": tbst_well, \"used\": 0},\n",
    "    }\n",
    "    solution_in_tuberack = {\n",
    "        # 1st ROW ##########\n",
    "        # 1st RUN ##########\n",
    "        \"opal_antibody_dilluent\": {\n",
    "            \"position\": \"A1\", \"volume\": 250, \"time\": {\"mins\": 10, \"sec\": 0}},\n",
    "        \"cd8\": {\n",
    "            \"position\": \"A2\", \"volume\": 250, \"time\": {\"mins\": 30, \"sec\": 0}},\n",
    "        \"opal_polymer_HRP\": {\n",
    "            \"position\": \"A3\", \"volume\": 250, \"time\": {\"mins\": 10, \"sec\": 0}},\n",
    "        \"opal_690_fluorophore\": {\n",
    "            \"position\": \"A4\", \"volume\": 250, \"time\": {\"mins\": 10, \"sec\": 0}},\n",
    "        # 2nd RUN ##########\n",
    "        \"foxp3\": {\n",
    "            \"position\": \"A5\", \"volume\": 250, \"time\": {\"mins\": 60, \"sec\": 0}},\n",
    "\n",
    "        # 2nd ROW ##########\n",
    "        \"opal_620_fluorophore\": {\n",
    "            \"position\": \"B1\", \"volume\": 250, \"time\": {\"mins\": 10, \"sec\": 0}},\n",
    "        \"empty\": {\"position\": \"B2\", \"volume\": 0, \"time\": {\"mins\": 0, \"sec\": 0}},\n",
    "        \"empty\": {\"position\": \"B3\", \"volume\": 0, \"time\": {\"mins\": 0, \"sec\": 0}},\n",
    "        \"empty\": {\"position\": \"A4\", \"volume\": 0, \"time\": {\"mins\": 0, \"sec\": 0}},\n",
    "        \"empty\": {\"position\": \"B5\", \"volume\": 0, \"time\": {\"mins\": 0, \"sec\": 0}},\n",
    "        # 3rd ROW ##########\n",
    "        \"empty\": {\"position\": \"C1\", \"volume\": 0, \"time\": {\"mins\": 0, \"sec\": 0}},\n",
    "        \"empty\": {\"position\": \"C2\", \"volume\": 0, \"time\": {\"mins\": 0, \"sec\": 0}},\n",
    "        \"empty\": {\"position\": \"C3\", \"volume\": 0, \"time\": {\"mins\": 0, \"sec\": 0}},\n",
    "        \"empty\": {\"position\": \"C4\", \"volume\": 0, \"time\": {\"mins\": 0, \"sec\": 0}},\n",
    "        \"empty\": {\"position\": \"C5\", \"volume\": 0, \"time\": {\"mins\": 0, \"sec\": 0}},\n",
    "    }\n",
    "\n",
    "    for sol in solution_in_tuberack:\n",
    "#         solution_in_tuberack[sol][\"labware\"] = tuberack\n",
    "#         solution_in_tuberack[sol][\"used\"] = 0\n",
    "        print(solution_in_tuberack[sol])\n",
    "\n",
    "    # Add TBST Well to Solution List if using\n",
    "    if tbst_well != None: solution_in_tuberack.update(tbst_well)\n",
    "    return solution_in_tuberack"
   ]
  },
  {
   "cell_type": "code",
   "execution_count": 58,
   "id": "544111a6",
   "metadata": {},
   "outputs": [
    {
     "name": "stdout",
     "output_type": "stream",
     "text": [
      "{'position': 'A1', 'volume': 250, 'time': {'mins': 10, 'sec': 0}}\n",
      "{'position': 'A2', 'volume': 250, 'time': {'mins': 30, 'sec': 0}}\n",
      "{'position': 'A3', 'volume': 250, 'time': {'mins': 10, 'sec': 0}}\n",
      "{'position': 'A4', 'volume': 250, 'time': {'mins': 10, 'sec': 0}}\n",
      "{'position': 'A5', 'volume': 250, 'time': {'mins': 60, 'sec': 0}}\n",
      "{'position': 'B1', 'volume': 250, 'time': {'mins': 10, 'sec': 0}}\n",
      "{'position': 'C5', 'volume': 0, 'time': {'mins': 0, 'sec': 0}}\n"
     ]
    },
    {
     "data": {
      "text/plain": [
       "{'opal_antibody_dilluent': {'position': 'A1',\n",
       "  'volume': 250,\n",
       "  'time': {'mins': 10, 'sec': 0}},\n",
       " 'cd8': {'position': 'A2', 'volume': 250, 'time': {'mins': 30, 'sec': 0}},\n",
       " 'opal_polymer_HRP': {'position': 'A3',\n",
       "  'volume': 250,\n",
       "  'time': {'mins': 10, 'sec': 0}},\n",
       " 'opal_690_fluorophore': {'position': 'A4',\n",
       "  'volume': 250,\n",
       "  'time': {'mins': 10, 'sec': 0}},\n",
       " 'foxp3': {'position': 'A5', 'volume': 250, 'time': {'mins': 60, 'sec': 0}},\n",
       " 'opal_620_fluorophore': {'position': 'B1',\n",
       "  'volume': 250,\n",
       "  'time': {'mins': 10, 'sec': 0}},\n",
       " 'empty': {'position': 'C5', 'volume': 0, 'time': {'mins': 0, 'sec': 0}},\n",
       " 'tbst': {'position': 'A1',\n",
       "  'volume': 250,\n",
       "  'time': {'mins': 1, 'sec': 0},\n",
       "  'labware': None,\n",
       "  'used': 0}}"
      ]
     },
     "execution_count": 58,
     "metadata": {},
     "output_type": "execute_result"
    }
   ],
   "source": [
    "antibody_def(\"THISTUBE\", None)"
   ]
  },
  {
   "cell_type": "code",
   "execution_count": 13,
   "id": "7ed1276c",
   "metadata": {},
   "outputs": [],
   "source": [
    "test_dict = {'bol':True}"
   ]
  },
  {
   "cell_type": "code",
   "execution_count": 14,
   "id": "a08ffe87",
   "metadata": {},
   "outputs": [],
   "source": [
    "del test_dict['bol']"
   ]
  },
  {
   "cell_type": "code",
   "execution_count": 15,
   "id": "683f6799",
   "metadata": {},
   "outputs": [
    {
     "data": {
      "text/plain": [
       "{}"
      ]
     },
     "execution_count": 15,
     "metadata": {},
     "output_type": "execute_result"
    }
   ],
   "source": [
    "test_dict"
   ]
  },
  {
   "cell_type": "code",
   "execution_count": 15,
   "id": "8c6668ec",
   "metadata": {},
   "outputs": [],
   "source": [
    "chacha_location = {\n",
    "    # chacha1\n",
    "    1: {\"active\": True,\n",
    "        \"position\": 1,\n",
    "        \"slides\": {1: {\"active\": True, \"workRegion\": {'cols': ['2', '3'],\n",
    "                                                            'rows': ['G', 'H']}},\n",
    "                   2: {\"active\": False, \"workRegion\": {'cols': ['2', '3'],\n",
    "                                                           'rows': ['G', 'H']}},\n",
    "                   3: {\"active\": True, \"workRegion\": {'cols': ['2', '3'],\n",
    "                                                           'rows': ['G', 'H']}},\n",
    "                   4: {\"active\": False, \"workRegion\": {'cols': ['2', '3'],\n",
    "                                                           'rows': ['G', 'H']}}, }\n",
    "        },\n",
    "    # chacha2\n",
    "    2: {\"active\": True,\n",
    "        \"position\": 2,\n",
    "        \"slides\": {1: {\"active\": True, \"workRegion\": {'cols': ['2', '3'],\n",
    "                                                            'rows': ['G', 'H']}},\n",
    "                   2: {\"active\": True, \"workRegion\": {'cols': ['2', '3'],\n",
    "                                                           'rows': ['G', 'H']}},\n",
    "                   3: {\"active\": True, \"workRegion\": {'cols': ['2', '3'],\n",
    "                                                           'rows': ['G', 'H']}},\n",
    "                   4: {\"active\": True, \"workRegion\": {'cols': ['2', '3'],\n",
    "                                                           'rows': ['G', 'H']}}, }\n",
    "        },\n",
    "    # chacha3\n",
    "    3: {\"active\": True,\n",
    "        \"position\": 3,\n",
    "        \"slides\": {1: {\"active\": True, \"workRegion\": {'cols': ['2', '3'],\n",
    "                                                            'rows': ['G', 'H']}},\n",
    "                   2: {\"active\": True, \"workRegion\": {'cols': ['2', '3'],\n",
    "                                                           'rows': ['G', 'H']}},\n",
    "                   3: {\"active\": True, \"workRegion\": {'cols': ['2', '3'],\n",
    "                                                           'rows': ['G', 'H']}},\n",
    "                   4: {\"active\": True, \"workRegion\": {'cols': ['2', '3'],\n",
    "                                                           'rows': ['G', 'H']}}, }\n",
    "        },\n",
    "################################################################################\n",
    "    # chacha4\n",
    "    4: {\"active\": False,\n",
    "        \"position\": 1,\n",
    "        \"slides\": {1: {\"active\": True, \"workRegion\": {'cols': ['2', '3'],\n",
    "                                                            'rows': ['G', 'H']}},\n",
    "                   2: {\"active\": True, \"workRegion\": {'cols': ['2', '3'],\n",
    "                                                           'rows': ['G', 'H']}},\n",
    "                   3: {\"active\": True, \"workRegion\": {'cols': ['2', '3'],\n",
    "                                                           'rows': ['G', 'H']}},\n",
    "                   4: {\"active\": True, \"workRegion\": {'cols': ['2', '3'],\n",
    "                                                           'rows': ['G', 'H']}}, }\n",
    "        },\n",
    "    # chacha5\n",
    "    5: {\"active\": False,\n",
    "        \"position\": 2,\n",
    "        \"slides\": {1: {\"active\": True, \"workRegion\": {'cols': ['2', '3'],\n",
    "                                                            'rows': ['G', 'H']}},\n",
    "                   2: {\"active\": True, \"workRegion\": {'cols': ['2', '3'],\n",
    "                                                           'rows': ['G', 'H']}},\n",
    "                   3: {\"active\": True, \"workRegion\": {'cols': ['2', '3'],\n",
    "                                                           'rows': ['G', 'H']}},\n",
    "                   4: {\"active\": True, \"workRegion\": {'cols': ['2', '3'],\n",
    "                                                           'rows': ['G', 'H']}}, }\n",
    "        },\n",
    "    # chacha6\n",
    "    6: {\"active\": False,\n",
    "        \"position\": 3,\n",
    "        \"slides\": {1: {\"active\": True, \"workRegion\": {'cols': ['2', '3'],\n",
    "                                                            'rows': ['G', 'H']}},\n",
    "                   2: {\"active\": True, \"workRegion\": {'cols': ['2', '3'],\n",
    "                                                           'rows': ['G', 'H']}},\n",
    "                   3: {\"active\": True, \"workRegion\": {'cols': ['2', '3'],\n",
    "                                                           'rows': ['G', 'H']}},\n",
    "                   4: {\"active\": True, \"workRegion\": {'cols': ['2', '3'],\n",
    "                                                           'rows': ['G', 'H']}}, }\n",
    "        },\n",
    "}"
   ]
  },
  {
   "cell_type": "code",
   "execution_count": 92,
   "id": "e3d374a6",
   "metadata": {},
   "outputs": [
    {
     "data": {
      "text/plain": [
       "{1: {'active': True,\n",
       "  'position': 1,\n",
       "  'slides': {2: {'active': False,\n",
       "    'workRegion': {'cols': ['2', '3'], 'rows': ['G', 'H']}},\n",
       "   3: {'active': True, 'workRegion': {'cols': ['2', '3'], 'rows': ['G', 'H']}},\n",
       "   4: {'active': True,\n",
       "    'workRegion': {'cols': ['2', '3'], 'rows': ['G', 'H']}}}}}"
      ]
     },
     "execution_count": 92,
     "metadata": {},
     "output_type": "execute_result"
    }
   ],
   "source": [
    "chacha_location"
   ]
  },
  {
   "cell_type": "code",
   "execution_count": 17,
   "id": "a88a10a3",
   "metadata": {},
   "outputs": [
    {
     "ename": "RuntimeError",
     "evalue": "dictionary changed size during iteration",
     "output_type": "error",
     "traceback": [
      "\u001b[0;31m---------------------------------------------------------------------------\u001b[0m",
      "\u001b[0;31mRuntimeError\u001b[0m                              Traceback (most recent call last)",
      "Input \u001b[0;32mIn [17]\u001b[0m, in \u001b[0;36m<module>\u001b[0;34m\u001b[0m\n\u001b[1;32m      1\u001b[0m \u001b[38;5;28;01mfor\u001b[39;00m chacha \u001b[38;5;129;01min\u001b[39;00m chacha_location:\n\u001b[0;32m----> 2\u001b[0m     \u001b[38;5;28;01mfor\u001b[39;00m slide_n \u001b[38;5;129;01min\u001b[39;00m chacha_location[chacha][\u001b[38;5;124m\"\u001b[39m\u001b[38;5;124mslides\u001b[39m\u001b[38;5;124m\"\u001b[39m]:\n\u001b[1;32m      3\u001b[0m         \u001b[38;5;28;01mif\u001b[39;00m chacha_location[chacha][\u001b[38;5;124m\"\u001b[39m\u001b[38;5;124mslides\u001b[39m\u001b[38;5;124m\"\u001b[39m][slide_n][\u001b[38;5;124m'\u001b[39m\u001b[38;5;124mactive\u001b[39m\u001b[38;5;124m'\u001b[39m] \u001b[38;5;129;01mis\u001b[39;00m \u001b[38;5;28;01mTrue\u001b[39;00m:\n\u001b[1;32m      4\u001b[0m             chacha_location[chacha][\u001b[38;5;124m\"\u001b[39m\u001b[38;5;124mslides\u001b[39m\u001b[38;5;124m\"\u001b[39m]\u001b[38;5;241m.\u001b[39mpop(slide_n)\n",
      "\u001b[0;31mRuntimeError\u001b[0m: dictionary changed size during iteration"
     ]
    }
   ],
   "source": [
    "for chacha in chacha_location:\n",
    "    for slide_n in chacha_location[chacha][\"slides\"]:\n",
    "        if chacha_location[chacha][\"slides\"][slide_n]['active'] is True:\n",
    "            chacha_location[chacha][\"slides\"].pop(slide_n)"
   ]
  },
  {
   "cell_type": "code",
   "execution_count": 39,
   "id": "53d38018",
   "metadata": {},
   "outputs": [
    {
     "data": {
      "text/plain": [
       "{1: {'active': True,\n",
       "  'position': 1,\n",
       "  'slides': {1: {'active': True,\n",
       "    'workRegion': {'cols': ['2', '3'], 'rows': ['G', 'H']}},\n",
       "   2: {'active': False,\n",
       "    'workRegion': {'cols': ['2', '3'], 'rows': ['G', 'H']}},\n",
       "   3: {'active': True, 'workRegion': {'cols': ['2', '3'], 'rows': ['G', 'H']}},\n",
       "   4: {'active': True,\n",
       "    'workRegion': {'cols': ['2', '3'], 'rows': ['G', 'H']}}}}}"
      ]
     },
     "execution_count": 39,
     "metadata": {},
     "output_type": "execute_result"
    }
   ],
   "source": [
    "chacha_location"
   ]
  },
  {
   "cell_type": "code",
   "execution_count": 12,
   "id": "508aaa05",
   "metadata": {},
   "outputs": [],
   "source": [
    "def get_total_slide(row):\n",
    "    if row == 1 or row == \"1\":\n",
    "        rows = [1,2,3]\n",
    "    elif row == 2 or row == \"2\":\n",
    "        rows = [4,5,6]\n",
    "    else: pass # invalid row\n",
    "    #\n",
    "    for e in rows:\n",
    "        if chacha_location[e]:\n",
    "            for slide in chacha_location[e][\"slides\"]:\n",
    "                print(slide)"
   ]
  },
  {
   "cell_type": "code",
   "execution_count": 13,
   "id": "99334b05",
   "metadata": {},
   "outputs": [
    {
     "name": "stdout",
     "output_type": "stream",
     "text": [
      "1\n",
      "3\n",
      "1\n",
      "2\n",
      "3\n",
      "4\n",
      "1\n",
      "2\n",
      "3\n",
      "4\n"
     ]
    }
   ],
   "source": [
    "get_total_slide"
   ]
  },
  {
   "cell_type": "code",
   "execution_count": null,
   "id": "6a54cd93",
   "metadata": {},
   "outputs": [],
   "source": []
  }
 ],
 "metadata": {
  "kernelspec": {
   "display_name": "Python 3 (ipykernel)",
   "language": "python",
   "name": "python3"
  },
  "language_info": {
   "codemirror_mode": {
    "name": "ipython",
    "version": 3
   },
   "file_extension": ".py",
   "mimetype": "text/x-python",
   "name": "python",
   "nbconvert_exporter": "python",
   "pygments_lexer": "ipython3",
   "version": "3.8.12"
  }
 },
 "nbformat": 4,
 "nbformat_minor": 5
}
